{
 "cells": [
  {
   "cell_type": "code",
   "execution_count": 1,
   "id": "c9cc9988-f065-45aa-b0a5-346a56f495a0",
   "metadata": {},
   "outputs": [
    {
     "name": "stdin",
     "output_type": "stream",
     "text": [
      "this app will return the number of word in your paragraph;try it. objez mw man on fire\n"
     ]
    },
    {
     "name": "stdout",
     "output_type": "stream",
     "text": [
      "number of word in your paragraph are 5\n"
     ]
    }
   ],
   "source": [
    "paragraph=input(\"this app will return the number of word in your paragraph;try it.\")\n",
    "count=0\n",
    "for char in paragraph:\n",
    "    if char==\" \" or char==\"\\n\":\n",
    "        count+=1\n",
    "\n",
    "print(f\"number of word in your paragraph are {count+1}\")"
   ]
  },
  {
   "cell_type": "code",
   "execution_count": null,
   "id": "68f76190-54f0-4fcb-b47b-9389807b24d6",
   "metadata": {},
   "outputs": [],
   "source": []
  }
 ],
 "metadata": {
  "kernelspec": {
   "display_name": "Python 3 (ipykernel)",
   "language": "python",
   "name": "python3"
  },
  "language_info": {
   "codemirror_mode": {
    "name": "ipython",
    "version": 3
   },
   "file_extension": ".py",
   "mimetype": "text/x-python",
   "name": "python",
   "nbconvert_exporter": "python",
   "pygments_lexer": "ipython3",
   "version": "3.13.2"
  }
 },
 "nbformat": 4,
 "nbformat_minor": 5
}
